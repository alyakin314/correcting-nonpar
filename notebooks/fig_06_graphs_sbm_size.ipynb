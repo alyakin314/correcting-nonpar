{
 "cells": [
  {
   "cell_type": "code",
   "execution_count": 1,
   "metadata": {},
   "outputs": [],
   "source": [
    "%matplotlib inline\n",
    "import datetime\n",
    "import numpy as np\n",
    "import pickle as pkl\n",
    "from tqdm.notebook import tqdm\n",
    "import matplotlib.pyplot as plt\n",
    "from multiprocessing import cpu_count\n",
    "from graspy.simulations import er_np, sbm\n",
    "from graspy.inference import LatentDistributionTest\n",
    "from sklearn.metrics.pairwise import pairwise_kernels"
   ]
  },
  {
   "cell_type": "code",
   "execution_count": 2,
   "metadata": {},
   "outputs": [],
   "source": [
    "def mc_iter(n, m, p, q, test_type, i=1):\n",
    "    ns = np.random.multinomial(n, [0.4, 0.3, 0.3])\n",
    "    ms = np.random.multinomial(m, [0.4, 0.3, 0.3])\n",
    "    \n",
    "    X_graph = sbm(ns, p)\n",
    "    Y_graph = sbm(ms, q)\n",
    "\n",
    "    def metric_func(X, Y=None, workers=None):\n",
    "        return pairwise_kernels(X, Y, metric=\"rbf\", gamma=2)\n",
    "    \n",
    "    ldt = LatentDistributionTest(test=\"hsic\",\n",
    "                                 metric=metric_func,\n",
    "                                 n_components=1,\n",
    "                                 workers=cpu_count()-2,\n",
    "                                 size_correction=test_type,)\n",
    "    pval = ldt.fit_predict(X_graph, Y_graph)\n",
    "\n",
    "    return pval"
   ]
  },
  {
   "cell_type": "code",
   "execution_count": 3,
   "metadata": {},
   "outputs": [],
   "source": [
    "def monte_carlo(n, m, p, q, test_type=False, mc_iters=10):\n",
    "    '''\n",
    "    n: size of the first graph\n",
    "    m: size of the second graph\n",
    "    p: latent position of the first graph\n",
    "    q: latent poisiton of the second graph\n",
    "    test_type: boolean, to set size_correction\n",
    "    mc_iters: number of monte-carlo-iterations\n",
    "    '''\n",
    "    pvals = [None] * mc_iters\n",
    "    for i in tqdm(range(mc_iters)):\n",
    "        pvals[i] = mc_iter(n, m, p, q, test_type)\n",
    "\n",
    "    return np.array(pvals)"
   ]
  },
  {
   "cell_type": "code",
   "execution_count": 4,
   "metadata": {},
   "outputs": [
    {
     "data": {
      "text/plain": [
       "array([[0.83883518, 0.32612198, 0.04498125],\n",
       "       [0.75732389, 0.48627208, 0.08985007],\n",
       "       [0.64562048, 0.62703604, 0.        ]])"
      ]
     },
     "execution_count": 4,
     "metadata": {},
     "output_type": "execute_result"
    }
   ],
   "source": [
    "thetas = [1.20, 1.00, 0.80]\n",
    "omegas = [0.05, 0.10, 0.00]\n",
    "r = 0.9\n",
    "latent_position_1 = np.array([r * np.sin(thetas[0]),\n",
    "                              r * np.cos(thetas[0]),\n",
    "                              r * np.sin(omegas[0])])\n",
    "latent_position_2 = np.array([r * np.sin(thetas[1]),\n",
    "                              r * np.cos(thetas[1]),\n",
    "                              r * np.sin(omegas[1])])\n",
    "latent_position_3 = np.array([r * np.sin(thetas[2]),\n",
    "                              r * np.cos(thetas[2]),\n",
    "                              r * np.sin(omegas[2])])\n",
    "latent_position_matrix = np.vstack([latent_position_1,\n",
    "                                    latent_position_2,\n",
    "                                    latent_position_3])\n",
    "latent_position_matrix"
   ]
  },
  {
   "cell_type": "code",
   "execution_count": 5,
   "metadata": {},
   "outputs": [
    {
     "data": {
      "text/plain": [
       "3"
      ]
     },
     "execution_count": 5,
     "metadata": {},
     "output_type": "execute_result"
    }
   ],
   "source": [
    "probability_matrix = latent_position_matrix @ latent_position_matrix.T\n",
    "np.linalg.matrix_rank(probability_matrix)"
   ]
  },
  {
   "cell_type": "code",
   "execution_count": 6,
   "metadata": {},
   "outputs": [
    {
     "data": {
      "text/plain": [
       "array([[0.81202331, 0.7978955 , 0.74605941],\n",
       "       [0.7978955 , 0.81807304, 0.79385393],\n",
       "       [0.74605941, 0.79385393, 0.81      ]])"
      ]
     },
     "execution_count": 6,
     "metadata": {},
     "output_type": "execute_result"
    }
   ],
   "source": [
    "probability_matrix"
   ]
  },
  {
   "cell_type": "code",
   "execution_count": 7,
   "metadata": {},
   "outputs": [],
   "source": [
    "mc_iters = 1000\n",
    "ns = [50, 100, 200, 300, 400, 500]\n",
    "cs = [1, 2, 5, 7, 10, 15]\n",
    "\n",
    "p = probability_matrix\n",
    "q = probability_matrix"
   ]
  },
  {
   "cell_type": "markdown",
   "metadata": {},
   "source": [
    "The following (commented out) cell runs the simulation from scratch if uncommented. Depending on your system it can take hours, or even days with the settings provided by default. To run a smaller simulation, decrease the number of monte carlo simulations, graph orders, or grapher order ratios used. If the following cell is not uncommented, the notebook will use data from our run to generate the figure."
   ]
  },
  {
   "cell_type": "code",
   "execution_count": 8,
   "metadata": {
    "scrolled": true
   },
   "outputs": [],
   "source": [
    "# full_data = {}\n",
    "# part_data = {}\n",
    "# for c in cs:\n",
    "#     print(str(datetime.datetime.now()) + ' current c: {}'.format(c))\n",
    "#     print(str(datetime.datetime.now()) + ' unmodified ASE')\n",
    "#     tests_size_sbm_unmodified = np.array([monte_carlo(n=i, m=c*i, p=p, q=q,\n",
    "#                                                      mc_iters=mc_iters,\n",
    "#                                                      test_type=False)\n",
    "#                                          for i in ns])\n",
    "#     print(str(datetime.datetime.now()) + ' corrected ASE')\n",
    "#     tests_size_sbm_sampling = np.array([monte_carlo(n=i, m=c*i, p=p, q=q,\n",
    "#                                                    mc_iters=mc_iters,\n",
    "#                                                    test_type=True)\n",
    "#                                        for i in ns])\n",
    "#     # store every result of every test\n",
    "#     full_data[c] = {'unmodified': tests_size_sbm_unmodified,\n",
    "#                     'sampling': tests_size_sbm_sampling}\n",
    "#     # store only the powers\n",
    "#     size_sbm_unmodified = np.array([np.sum(i < 0.05)/mc_iters for i in tests_size_sbm_unmodified])\n",
    "#     size_sbm_sampling = np.array([np.sum(i < 0.05)/mc_iters for i in tests_size_sbm_sampling])\n",
    "#     part_data[c] = {'unmodified': size_sbm_unmodified,\n",
    "#                     'sampling': size_sbm_sampling}\n",
    "    \n",
    "#     # pkl.dump(full_data, open( \"../data/graphs_sbm_size_full.pkl\", \"wb\" ) )\n",
    "#     pkl.dump(part_data, open( \"../data/graphs_sbm_size_part.pkl\", \"wb\" ) )"
   ]
  },
  {
   "cell_type": "code",
   "execution_count": 9,
   "metadata": {},
   "outputs": [],
   "source": [
    "part_data = pkl.load(open( \"../data/graphs_sbm_size_part.pkl\", \"rb\" ) )"
   ]
  },
  {
   "cell_type": "code",
   "execution_count": 10,
   "metadata": {},
   "outputs": [
    {
     "data": {
      "text/plain": [
       "{1: {'unmodified': array([0., 0., 0., 0., 0., 0.]),\n",
       "  'sampling': array([0., 0., 0., 0., 0., 0.])},\n",
       " 2: {'unmodified': array([0., 0., 0., 0., 0., 0.]),\n",
       "  'sampling': array([0., 0., 0., 0., 0., 0.])},\n",
       " 5: {'unmodified': array([0.416, 0.976, 0.993, 0.936, 0.573, 0.212]),\n",
       "  'sampling': array([0., 0., 0., 0., 0., 0.])},\n",
       " 7: {'unmodified': array([0.956, 1.   , 1.   , 1.   , 0.943, 0.573]),\n",
       "  'sampling': array([0., 0., 0., 0., 0., 0.])},\n",
       " 10: {'unmodified': array([0.999, 1.   , 1.   , 1.   , 0.997, 0.85 ]),\n",
       "  'sampling': array([0., 0., 0., 0., 0., 0.])},\n",
       " 15: {'unmodified': array([1.   , 1.   , 1.   , 1.   , 1.   , 0.974]),\n",
       "  'sampling': array([0., 0., 0., 0., 0., 0.])}}"
      ]
     },
     "execution_count": 10,
     "metadata": {},
     "output_type": "execute_result"
    }
   ],
   "source": [
    "part_data"
   ]
  },
  {
   "cell_type": "code",
   "execution_count": 11,
   "metadata": {},
   "outputs": [
    {
     "data": {
      "image/png": "[encoded data removed]",
      "text/plain": [
       "<Figure size 576x432 with 1 Axes>"
      ]
     },
     "metadata": {
      "needs_background": "light"
     },
     "output_type": "display_data"
    },
    {
     "data": {
      "image/png": "[encoded data removed]",
      "text/plain": [
       "<Figure size 576x432 with 1 Axes>"
      ]
     },
     "metadata": {
      "needs_background": "light"
     },
     "output_type": "display_data"
    }
   ],
   "source": [
    "graph_type = 'sbm'\n",
    "size_power = 'size'\n",
    "styles=['-', '--', '-.', '-', '--', '-.']\n",
    "\n",
    "for kernel_type in ['unmodified', 'sampling']:\n",
    "    fig01, ax01 = plt.subplots(1, 1, figsize=(8,6))\n",
    "    for j, c in enumerate(cs):\n",
    "        to_plot = part_data[c][kernel_type]\n",
    "            \n",
    "        ax01.errorbar(x = ns, y=to_plot+c*0.0004, fmt=styles[j],\n",
    "                      yerr=1.96*np.sqrt(to_plot*(1-to_plot)/mc_iters),\n",
    "                      label='c={}'.format(c))\n",
    "    ax01.plot(ns, np.ones(len(ns)) * 0.05, 'k--', label='0.05', linewidth=2)\n",
    "    ax01.set_xlabel(\"m\")\n",
    "    ax01.set_ylabel(\"{} of the test\".format(size_power))\n",
    "    ax01.set_ylim([-0.05, 1.05])\n",
    "    ax01.set_xticks(ns)\n",
    "    # ax01.legend(bbox_to_anchor=(1.04,1), loc=\"upper left\");\n",
    "    ax01.legend(loc=\"upper left\")\n",
    "    fig01.savefig('../figures/graphs_{}_{}_{}'.format(graph_type, size_power, kernel_type),\n",
    "                  bbox_inches='tight', dpi=300);"
   ]
  },
  {
   "cell_type": "code",
   "execution_count": null,
   "metadata": {},
   "outputs": [],
   "source": []
  }
 ],
 "metadata": {
  "kernelspec": {
   "display_name": "Python 3",
   "language": "python",
   "name": "python3"
  },
  "language_info": {
   "codemirror_mode": {
    "name": "ipython",
    "version": 3
   },
   "file_extension": ".py",
   "mimetype": "text/x-python",
   "name": "python",
   "nbconvert_exporter": "python",
   "pygments_lexer": "ipython3",
   "version": "3.7.3"
  }
 },
 "nbformat": 4,
 "nbformat_minor": 4
}
