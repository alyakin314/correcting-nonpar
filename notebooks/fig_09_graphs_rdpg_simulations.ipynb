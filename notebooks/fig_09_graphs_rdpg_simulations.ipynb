{
 "cells": [
  {
   "cell_type": "code",
   "execution_count": 1,
   "metadata": {},
   "outputs": [],
   "source": [
    "%load_ext autoreload\n",
    "%autoreload 2\n",
    "%matplotlib inline\n",
    "import datetime\n",
    "import numpy as np\n",
    "import pickle as pkl\n",
    "import statsmodels\n",
    "import seaborn as sns\n",
    "from tqdm.notebook import tqdm\n",
    "from scipy import stats\n",
    "import matplotlib.pyplot as plt\n",
    "from multiprocessing import cpu_count\n",
    "from graspy.simulations import p_from_latent, sample_edges\n",
    "from graspy.inference import LatentDistributionTest\n",
    "from sklearn.metrics.pairwise import pairwise_kernels"
   ]
  },
  {
   "cell_type": "code",
   "execution_count": 2,
   "metadata": {},
   "outputs": [],
   "source": [
    "def make_a_graph(n, case=0, scale=0.3, loc=0.3):\n",
    "    if case == 0:\n",
    "        latent1 = stats.uniform.rvs(0, 1, size=n).reshape(-1, 1) * scale + loc\n",
    "    elif case == 1: \n",
    "        latent1 = stats.beta.rvs(0.25, 0.25, size=n).reshape(-1, 1) * scale + loc\n",
    "    elif case == 2:     \n",
    "        latent1 = np.random.binomial(1, 0.5, n).reshape(-1, 1) * scale + loc\n",
    "    p_mat1 = p_from_latent(latent1, rescale=False, loops=False)\n",
    "    X_graph = sample_edges(p_mat1, directed=False, loops=False)\n",
    "    return X_graph"
   ]
  },
  {
   "cell_type": "code",
   "execution_count": 3,
   "metadata": {},
   "outputs": [],
   "source": [
    "def mc_iter(n, m, p, q, test_type, i=1):\n",
    "    X_graph = make_a_graph(n, case=p)\n",
    "    Y_graph = make_a_graph(m, case=q)    \n",
    "    \n",
    "    def metric_func(X, Y=None, workers=None):\n",
    "        return pairwise_kernels(X, Y, metric=\"rbf\", gamma=2)\n",
    "    \n",
    "    ldt = LatentDistributionTest(test=\"hsic\",\n",
    "                                 metric=metric_func,\n",
    "                                 n_components=1,\n",
    "                                 workers=cpu_count() - 2,\n",
    "                                 size_correction=test_type)\n",
    "    pval = ldt.fit_predict(X_graph, Y_graph)\n",
    "\n",
    "    return pval"
   ]
  },
  {
   "cell_type": "code",
   "execution_count": 4,
   "metadata": {},
   "outputs": [],
   "source": [
    "def monte_carlo(n, m, p, q, test_type=False, mc_iters=1000):\n",
    "    '''\n",
    "    n: size of the first graph\n",
    "    m: size of the second graph\n",
    "    p: latent position of the first graph\n",
    "    q: latent poisiton of the second graph\n",
    "    test_type: boolean, to set size_correction\n",
    "    mc_iters: number of monte-carlo-iterations\n",
    "    '''\n",
    "    pvals = np.zeros(mc_iters)\n",
    "    \n",
    "    results = [None] * mc_iters\n",
    "    for i in tqdm(range(mc_iters)):\n",
    "        results[i] = mc_iter(n, m, p, q, test_type)\n",
    "\n",
    "    return np.array(pvals)"
   ]
  },
  {
   "cell_type": "code",
   "execution_count": 5,
   "metadata": {},
   "outputs": [],
   "source": [
    "n = 500\n",
    "m = 5000\n",
    "mc_iters = 1000"
   ]
  },
  {
   "cell_type": "markdown",
   "metadata": {},
   "source": [
    "The following (commented out) cell runs the simulation from scratch if uncommented. Depending on your system it can take hours, or even days with the settings provided by default. To run a smaller simulation, decrease the number of monte carlo iterations used. If the following cell is not uncommented, the notebook will use data from our run to generate the figure."
   ]
  },
  {
   "cell_type": "code",
   "execution_count": 6,
   "metadata": {
    "scrolled": true
   },
   "outputs": [],
   "source": [
    "# size_results = []\n",
    "# for i in range(3):\n",
    "#     size_results.append(monte_carlo(n, m, i, i, test_type=False, mc_iters=mc_iters))\n",
    "#     size_results.append(monte_carlo(n, m, i, i, test_type=True, mc_iters=mc_iters))\n",
    "\n",
    "# power_results = []\n",
    "# for i in range(3):\n",
    "#     for j in range(3):\n",
    "#         a = monte_carlo(n, m, i, j, test_type=True, mc_iters=mc_iters)\n",
    "#         print(i, j, np.mean(a < 0.05))\n",
    "#         power_results.append(a)\n",
    "\n",
    "# pkl.dump(size_results, open( \"../data/graphs_rdpg_size_results.pkl\", \"wb\" ) )\n",
    "# pkl.dump(power_results, open( \"../data/graphs_rdpg_power_results.pkl\", \"wb\" ) )"
   ]
  },
  {
   "cell_type": "code",
   "execution_count": 7,
   "metadata": {},
   "outputs": [],
   "source": [
    "size_results = pkl.load(open( \"../data/graphs_rdpg_size_results.pkl\", \"rb\" ) )\n",
    "power_results = pkl.load(open( \"../data/graphs_rdpg_power_results.pkl\", \"rb\" ) )"
   ]
  },
  {
   "cell_type": "code",
   "execution_count": 8,
   "metadata": {},
   "outputs": [],
   "source": [
    "def plot_size_sim(sim_p_vals_array):\n",
    "    fig, ax = plt.subplots(1, 2, figsize=(16, 6))\n",
    "    for i in range(2):\n",
    "        axis = ax[i]\n",
    "        sim_p_vals = sim_p_vals_array[i]\n",
    "        plt.style.use(\"seaborn-white\")\n",
    "        sns.set_palette(\"deep\")\n",
    "        sns.set_context(\"paper\", font_scale=1.5)\n",
    "        axis.plot(np.arange(len(sim_p_vals))/len(sim_p_vals),\n",
    "                np.linspace(1/len(sim_p_vals),1,num=len(sim_p_vals)),\n",
    "                 label='cdf of a uniform distribution', color='k', alpha=0.7)\n",
    "        sns.distplot(sim_p_vals,\n",
    "                     bins=np.linspace(0, 1, 20, endpoint=True),\n",
    "                     hist_kws={'cumulative': True, 'label' : 'empirical cdf histogram'},\n",
    "                     kde_kws={'cumulative': True, 'label': 'empirical cdf kde', 'bw' : 0.04},\n",
    "                     ax=axis)\n",
    "        axis.set_xlim([0, 1])\n",
    "        if i == 0:\n",
    "            axis.set_title(\"Nonparametric test using ASE\")\n",
    "        elif i == 1:\n",
    "            axis.set_title(\"Nonparametric test using CASE\")\n",
    "        axis.set_xlabel(\"p-value\")\n",
    "        axis.set_ylabel(\"empirical cdf\")\n",
    "        axis.legend()\n",
    "    return fig"
   ]
  },
  {
   "cell_type": "code",
   "execution_count": 9,
   "metadata": {},
   "outputs": [
    {
     "data": {
      "image/png": "[encoded data removed]",
      "text/plain": [
       "<Figure size 1152x432 with 2 Axes>"
      ]
     },
     "metadata": {
      "needs_background": "light"
     },
     "output_type": "display_data"
    }
   ],
   "source": [
    "fig = plot_size_sim(size_results[:2]);\n",
    "fig.savefig('../figures/graphs_rdpg_histograms.png',\n",
    "           bbox_inches='tight',\n",
    "           dpi=300)"
   ]
  },
  {
   "cell_type": "code",
   "execution_count": 10,
   "metadata": {},
   "outputs": [
    {
     "data": {
      "text/plain": [
       "(0.068, 0.049)"
      ]
     },
     "execution_count": 10,
     "metadata": {},
     "output_type": "execute_result"
    }
   ],
   "source": [
    "size_uncorrected = np.mean(size_results[0] <= 0.05)\n",
    "size_corrected = np.mean(size_results[1] <= 0.05)\n",
    "size_uncorrected, size_corrected"
   ]
  },
  {
   "cell_type": "code",
   "execution_count": 11,
   "metadata": {},
   "outputs": [],
   "source": [
    "size_uncorrected_std = np.sqrt(size_uncorrected*(1-size_corrected)/mc_iters)\n",
    "size_corrected_std = np.sqrt(size_corrected*(1-size_corrected)/mc_iters)\n"
   ]
  },
  {
   "cell_type": "code",
   "execution_count": 12,
   "metadata": {},
   "outputs": [
    {
     "name": "stdout",
     "output_type": "stream",
     "text": [
      "uncorrected CI: ((0.05223838241803844, 1.9680416416234496))\n",
      "corrected CI: ((0.03562036179861354, 1.9668263460211155))\n"
     ]
    }
   ],
   "source": [
    "print(f\"uncorrected CI: ({size_uncorrected - 1.96 *size_uncorrected_std, size_uncorrected_std + 1.96})\")\n",
    "print(f\"corrected CI: ({size_corrected - 1.96 *size_corrected_std, size_corrected_std + 1.96})\")"
   ]
  },
  {
   "cell_type": "code",
   "execution_count": 13,
   "metadata": {},
   "outputs": [
    {
     "data": {
      "text/plain": [
       "0.011878092404488191"
      ]
     },
     "execution_count": 13,
     "metadata": {},
     "output_type": "execute_result"
    }
   ],
   "source": [
    "stats.norm.cdf(0.05, loc=size_uncorrected,\n",
    "               scale=np.sqrt(size_uncorrected*(1-size_uncorrected)/mc_iters))"
   ]
  },
  {
   "cell_type": "code",
   "execution_count": 14,
   "metadata": {},
   "outputs": [
    {
     "data": {
      "text/plain": [
       "array([[0.049, 0.957, 1.   ],\n",
       "       [0.996, 0.043, 0.514],\n",
       "       [1.   , 0.807, 0.052]])"
      ]
     },
     "execution_count": 14,
     "metadata": {},
     "output_type": "execute_result"
    }
   ],
   "source": [
    "(np.array(power_results).reshape(3,3,mc_iters) < 0.05).mean(axis=(2))"
   ]
  },
  {
   "cell_type": "code",
   "execution_count": null,
   "metadata": {},
   "outputs": [],
   "source": []
  }
 ],
 "metadata": {
  "kernelspec": {
   "display_name": "Python 3",
   "language": "python",
   "name": "python3"
  },
  "language_info": {
   "codemirror_mode": {
    "name": "ipython",
    "version": 3
   },
   "file_extension": ".py",
   "mimetype": "text/x-python",
   "name": "python",
   "nbconvert_exporter": "python",
   "pygments_lexer": "ipython3",
   "version": "3.7.3"
  }
 },
 "nbformat": 4,
 "nbformat_minor": 4
}
