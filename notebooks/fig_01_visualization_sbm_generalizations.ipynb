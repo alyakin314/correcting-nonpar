{
 "cells": [
  {
   "cell_type": "code",
   "execution_count": 1,
   "metadata": {},
   "outputs": [],
   "source": [
    "%load_ext autoreload\n",
    "%autoreload 2\n",
    "%matplotlib inline\n",
    "import numpy as np\n",
    "import seaborn as sns\n",
    "import matplotlib.pyplot as plt"
   ]
  },
  {
   "cell_type": "code",
   "execution_count": 2,
   "metadata": {},
   "outputs": [],
   "source": [
    "def line(x, y):\n",
    "    return np.linspace(0, x, 200) * y / x"
   ]
  },
  {
   "cell_type": "code",
   "execution_count": 3,
   "metadata": {},
   "outputs": [],
   "source": [
    "def line2(a, x1, x2, y1, y2):\n",
    "    return (y2 - y1) / (x2 - x1) * (a - x1) + y1 "
   ]
  },
  {
   "cell_type": "code",
   "execution_count": 4,
   "metadata": {},
   "outputs": [
    {
     "data": {
      "image/png": "[encoded data removed]",
      "text/plain": [
       "<Figure size 648x216 with 3 Axes>"
      ]
     },
     "metadata": {
      "needs_background": "light"
     },
     "output_type": "display_data"
    }
   ],
   "source": [
    "x1, y1 = 0.15, 0.4\n",
    "x2, y2 = 0.35, 0.2\n",
    "x3, y3 = 0.5, 0.6\n",
    "x4, y4 = 0.6, 0.5\n",
    "X = np.array([x1, x2, x3, x4])\n",
    "Y = np.array([y1, y2, y3, y4])\n",
    "\n",
    "fig1, (ax01, ax02, ax03) = plt.subplots(1, 3, figsize=(9, 3))\n",
    "ax01.scatter([x1, x2, x3, x4], [y1, y2, y3, y4])\n",
    "ax02.plot(np.linspace(0, x1, 200), line(x1, y1), color = 'C0')\n",
    "ax02.plot(np.linspace(0, x2, 200), line(x2, y2), color = 'C0')\n",
    "ax02.plot(np.linspace(0, x3, 200), line(x3, y3), color = 'C0')\n",
    "ax02.plot(np.linspace(0, x4, 200), line(x4, y4), color = 'C0')\n",
    "ax03.fill_between(np.linspace(x1, x2, 200),\n",
    "                 line2(np.linspace(x1, x2, 200), x1, x2, y1, y2),\n",
    "                  line2(np.linspace(x1, x2, 200), x1, x3, y1, y3),\n",
    "                 color='C0')\n",
    "ax03.fill_between(np.linspace(x2, x3, 200),\n",
    "                 line2(np.linspace(x2, x3, 200), x2, x4, y2, y4),\n",
    "                  line2(np.linspace(x2, x3, 200), x1, x3, y1, y3),\n",
    "                 color='C0')\n",
    "ax03.fill_between(np.linspace(x3, x4, 200),\n",
    "                 line2(np.linspace(x3, x4, 200), x2, x4, y2, y4),\n",
    "                  line2(np.linspace(x3, x4, 200), x3, x4, y3, y4),\n",
    "                 color='C0')\n",
    "ax01.set_xlim([0, 1])\n",
    "ax02.set_xlim([0, 1])\n",
    "ax03.set_xlim([0, 1])\n",
    "ax01.set_ylim([0, 1])\n",
    "ax02.set_ylim([0, 1])\n",
    "ax03.set_ylim([0, 1])\n",
    "ax01.set_title('SBM')\n",
    "ax02.set_title('DCSBM')\n",
    "ax03.set_title('MMSBM')\n",
    "fig1.savefig('../figures/visualization_sbm_generalizations.png',\n",
    "            bbox_inches='tight',\n",
    "            dpi=300)"
   ]
  },
  {
   "cell_type": "code",
   "execution_count": null,
   "metadata": {},
   "outputs": [],
   "source": []
  }
 ],
 "metadata": {
  "kernelspec": {
   "display_name": "Python 3",
   "language": "python",
   "name": "python3"
  },
  "language_info": {
   "codemirror_mode": {
    "name": "ipython",
    "version": 3
   },
   "file_extension": ".py",
   "mimetype": "text/x-python",
   "name": "python",
   "nbconvert_exporter": "python",
   "pygments_lexer": "ipython3",
   "version": "3.7.3"
  }
 },
 "nbformat": 4,
 "nbformat_minor": 4
}
