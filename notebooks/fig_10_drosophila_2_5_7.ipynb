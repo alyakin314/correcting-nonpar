{
 "cells": [
  {
   "cell_type": "code",
   "execution_count": 1,
   "metadata": {},
   "outputs": [],
   "source": [
    "%matplotlib inline\n",
    "import matplotlib.pyplot as plt\n",
    "import numpy as np\n",
    "import pandas as pd\n",
    "import seaborn as sns\n",
    "from scipy import stats\n",
    "from tqdm import tqdm_notebook as tqdm\n",
    "from multiprocessing import cpu_count\n",
    "from graspy.plot import pairplot\n",
    "from graspy.inference import LatentDistributionTest"
   ]
  },
  {
   "cell_type": "code",
   "execution_count": 2,
   "metadata": {},
   "outputs": [
    {
     "name": "stdout",
     "output_type": "stream",
     "text": [
      "[184, 214, 228, 365, 232, 148, 138, 239]\n"
     ]
    }
   ],
   "source": [
    "# load the embeddigns \n",
    "embeddings = [pd.read_csv(f\"../data/Xhat-Khat8-dhat5-drosophila/Xhat{i+1}-dhat5-drosophila.csv\") for i in range(8)]\n",
    "embeddings = [i.values for i in embeddings]\n",
    "print([len(i) for i in embeddings])"
   ]
  },
  {
   "cell_type": "code",
   "execution_count": 3,
   "metadata": {},
   "outputs": [
    {
     "name": "stdout",
     "output_type": "stream",
     "text": [
      "[173, 193, 217, 363, 224, 114, 126, 198]\n"
     ]
    }
   ],
   "source": [
    "# discard the zero rows of the embeddings \n",
    "for i in range(len(embeddings)):\n",
    "    embedding = embeddings[i]\n",
    "    embedding = embedding[~(embedding.sum(axis=1) == 0)]\n",
    "    embeddings[i] = embedding\n",
    "print([len(i) for i in embeddings])"
   ]
  },
  {
   "cell_type": "code",
   "execution_count": 4,
   "metadata": {},
   "outputs": [],
   "source": [
    "np.random.seed(314)"
   ]
  },
  {
   "cell_type": "code",
   "execution_count": 5,
   "metadata": {},
   "outputs": [],
   "source": [
    "embedding_2 = embeddings[1]\n",
    "embedding_5 = embeddings[4]\n",
    "embedding_7 = embeddings[6]\n",
    "iterations = 1000"
   ]
  },
  {
   "cell_type": "code",
   "execution_count": 6,
   "metadata": {},
   "outputs": [],
   "source": [
    "# p_vals_corrected_2_5 = np.zeros(iterations)\n",
    "# p_vals_uncorrected_2_5 = np.zeros(iterations)\n",
    "# for i in tqdm(range(iterations)):\n",
    "#     ldt_corrected = LatentDistributionTest(test='hsic',\n",
    "#                                            metric='gaussian',\n",
    "#                                            n_bootstraps=1000,\n",
    "#                                            workers=cpu_count()-2,\n",
    "#                                            size_correction=True,\n",
    "#                                            input_graph=False)\n",
    "#     ldt_corrected.fit(embedding_2, embedding_5)\n",
    "#     p_vals_corrected_2_5[i] = ldt_corrected.p_value_\n",
    "#     ldt_uncorrected = LatentDistributionTest(test='hsic',\n",
    "#                                              metric='gaussian',\n",
    "#                                              n_bootstraps=1000,\n",
    "#                                              workers=cpu_count()-2,\n",
    "#                                              size_correction=False,\n",
    "#                                              input_graph=False)\n",
    "#     ldt_uncorrected.fit(embedding_2, embedding_5)\n",
    "#     p_vals_uncorrected_2_5[i] = ldt_uncorrected.p_value_\n",
    "    \n",
    "# p_vals_corrected_5_7 = np.zeros(iterations)\n",
    "# p_vals_uncorrected_5_7 = np.zeros(iterations)\n",
    "# for i in tqdm(range(iterations)):\n",
    "#     ldt_corrected = LatentDistributionTest(test='hsic',\n",
    "#                                            metric='gaussian',\n",
    "#                                            n_bootstraps=1000,\n",
    "#                                            workers=cpu_count()-2,\n",
    "#                                            size_correction=True,\n",
    "#                                            input_graph=False)\n",
    "#     ldt_corrected.fit(embedding_5, embedding_7)\n",
    "#     p_vals_corrected_5_7[i] = ldt_corrected.p_value_\n",
    "#     ldt_uncorrected = LatentDistributionTest(test='hsic',\n",
    "#                                              metric='gaussian',\n",
    "#                                              n_bootstraps=1000,\n",
    "#                                              workers=cpu_count()-2,\n",
    "#                                              size_correction=False,\n",
    "#                                              input_graph=False)\n",
    "#     ldt_uncorrected.fit(embedding_5, embedding_7)\n",
    "#     p_vals_uncorrected_5_7[i] = ldt_uncorrected.p_value_\n",
    "    \n",
    "# p_vals_corrected_2_7 = np.zeros(iterations)\n",
    "# p_vals_uncorrected_2_7 = np.zeros(iterations)\n",
    "# for i in tqdm(range(iterations)):\n",
    "#     ldt_corrected = LatentDistributionTest(test='hsic',\n",
    "#                                            metric='gaussian',\n",
    "#                                            n_bootstraps=1000,\n",
    "#                                            workers=cpu_count()-2,\n",
    "#                                            size_correction=True,\n",
    "#                                            input_graph=False)\n",
    "#     ldt_corrected.fit(embedding_2, embedding_7)\n",
    "#     p_vals_corrected_2_7[i] = ldt_corrected.p_value_\n",
    "#     ldt_uncorrected = LatentDistributionTest(test='hsic',\n",
    "#                                              metric='gaussian',\n",
    "#                                              n_bootstraps=1000,\n",
    "#                                              workers=cpu_count()-2,\n",
    "#                                              size_correction=False,\n",
    "#                                              input_graph=False)\n",
    "#     ldt_uncorrected.fit(embedding_2, embedding_7)\n",
    "#     p_vals_uncorrected_2_7[i] = ldt_uncorrected.p_value_\n",
    "\n",
    "# pd.DataFrame(data=p_vals_corrected_2_5).to_csv('../data/real_data_p_vals_corrected_2_5.csv')\n",
    "# pd.DataFrame(data=p_vals_corrected_2_7).to_csv('../data/real_data_p_vals_corrected_2_7.csv')\n",
    "# pd.DataFrame(data=p_vals_corrected_5_7).to_csv('../data/real_data_p_vals_corrected_5_7.csv')\n",
    "# pd.DataFrame(data=p_vals_uncorrected_2_5).to_csv('../data/real_data_p_vals_uncorrected_2_5.csv')\n",
    "# pd.DataFrame(data=p_vals_uncorrected_2_7).to_csv('../data/real_data_p_vals_uncorrected_2_7.csv')\n",
    "# pd.DataFrame(data=p_vals_uncorrected_5_7).to_csv('../data/real_data_p_vals_uncorrected_5_7.csv')"
   ]
  },
  {
   "cell_type": "code",
   "execution_count": 7,
   "metadata": {},
   "outputs": [],
   "source": [
    "p_vals_corrected_2_5 = pd.read_csv('../data/real_data_p_vals_corrected_2_5.csv')\n",
    "p_vals_corrected_2_7 = pd.read_csv('../data/real_data_p_vals_corrected_2_7.csv')\n",
    "p_vals_corrected_5_7 = pd.read_csv('../data/real_data_p_vals_corrected_5_7.csv')\n",
    "p_vals_uncorrected_2_5 = pd.read_csv('../data/real_data_p_vals_uncorrected_2_5.csv')\n",
    "p_vals_uncorrected_2_7 = pd.read_csv('../data/real_data_p_vals_uncorrected_2_7.csv')\n",
    "p_vals_uncorrected_5_7 = pd.read_csv('../data/real_data_p_vals_uncorrected_5_7.csv')"
   ]
  },
  {
   "cell_type": "code",
   "execution_count": 8,
   "metadata": {},
   "outputs": [
    {
     "data": {
      "image/png": "[encoded data removed]",
      "text/plain": [
       "<Figure size 1152x288 with 3 Axes>"
      ]
     },
     "metadata": {
      "needs_background": "light"
     },
     "output_type": "display_data"
    }
   ],
   "source": [
    "fig, (ax01, ax02, ax03) = plt.subplots(1, 3, figsize=(16, 4), sharey=True)\n",
    "sns.distplot(p_vals_corrected_2_5,\n",
    "             label=\"corrected\", ax=ax01,\n",
    "             bins = np.linspace(0, 1, 101))\n",
    "sns.distplot(p_vals_uncorrected_2_5,\n",
    "             label=\"uncorrected\", ax=ax01,\n",
    "             bins = np.linspace(0, 1, 101))\n",
    "sns.distplot(p_vals_corrected_5_7,\n",
    "             label=\"corrected\", ax=ax02,\n",
    "             bins = np.linspace(0, 1, 101))\n",
    "sns.distplot(p_vals_uncorrected_5_7,\n",
    "             label=\"uncorrected\", ax=ax02,\n",
    "             bins = np.linspace(0, 1, 101))\n",
    "sns.distplot(p_vals_corrected_2_7,\n",
    "             label=\"corrected\", ax=ax03,\n",
    "             bins = np.linspace(0, 1, 101))\n",
    "sns.distplot(p_vals_uncorrected_2_7,\n",
    "             label=\"uncorrected\", ax=ax03,\n",
    "             bins = np.linspace(0, 1, 101))\n",
    "ax01.plot([0.05, 0.05], [0, 95], 'k--', label='0.05')\n",
    "ax02.plot([0.05, 0.05], [0, 95], 'k--', label='0.05')\n",
    "ax03.plot([0.05, 0.05], [0, 95], 'k--', label='0.05')\n",
    "ax01.set_xlim(0, 1)\n",
    "ax02.set_xlim(0, 1)\n",
    "ax03.set_xlim(0, 1)\n",
    "ax03.set_ylim(0, 95)\n",
    "ax01.set_xlabel(\"p-values\")\n",
    "ax02.set_xlabel(\"p-values\")\n",
    "ax03.set_xlabel(\"p-values\")\n",
    "ax01.set_ylabel(\"density\")\n",
    "ax01.set_title(\"Xhat2 (n=193) vs Xhat5 (n=224)\")\n",
    "ax02.set_title(\"Xhat2 (n=193) vs Xhat7 (n=126)\")\n",
    "ax03.set_title(\"Xhat5 (n=224) vs Xhat7 (n=126)\")\n",
    "ax01.legend()\n",
    "ax02.legend()\n",
    "ax03.legend()\n",
    "ax01.grid()\n",
    "ax02.grid()\n",
    "ax03.grid()\n",
    "fig.savefig(\"../figures/real_data_2_5_7.png\", bbox_inches=\"tight\")"
   ]
  },
  {
   "cell_type": "code",
   "execution_count": null,
   "metadata": {},
   "outputs": [],
   "source": []
  }
 ],
 "metadata": {
  "kernelspec": {
   "display_name": "Python 3",
   "language": "python",
   "name": "python3"
  },
  "language_info": {
   "codemirror_mode": {
    "name": "ipython",
    "version": 3
   },
   "file_extension": ".py",
   "mimetype": "text/x-python",
   "name": "python",
   "nbconvert_exporter": "python",
   "pygments_lexer": "ipython3",
   "version": "3.7.3"
  }
 },
 "nbformat": 4,
 "nbformat_minor": 4
}
